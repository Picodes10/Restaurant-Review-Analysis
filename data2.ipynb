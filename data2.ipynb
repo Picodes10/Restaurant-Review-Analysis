{
 "cells": [
  {
   "cell_type": "code",
   "execution_count": null,
   "id": "1162ef4c",
   "metadata": {},
   "outputs": [],
   "source": [
    "import pandas as pd\n",
    "import re\n",
    "import nltk\n",
    "from nltk.corpus import stopwords\n",
    "from nltk.stem.porter import PorterStemmer\n",
    "from sklearn.feature_extraction.text import CountVectorizer\n",
    "from sklearn.model_selection import train_test_split\n",
    "from sklearn.naive_bayes import MultinomialNB\n",
    "from sklearn.metrics import accuracy_score, confusion_matrix, classification_report\n"
   ]
  },
  {
   "cell_type": "code",
   "execution_count": 3,
   "id": "c9f4ef94",
   "metadata": {},
   "outputs": [
    {
     "data": {
      "application/vnd.microsoft.datawrangler.viewer.v0+json": {
       "columns": [
        {
         "name": "index",
         "rawType": "int64",
         "type": "integer"
        },
        {
         "name": "Restaurant",
         "rawType": "object",
         "type": "string"
        },
        {
         "name": "Reviewer",
         "rawType": "object",
         "type": "unknown"
        },
        {
         "name": "Review",
         "rawType": "object",
         "type": "unknown"
        },
        {
         "name": "Rating",
         "rawType": "object",
         "type": "unknown"
        },
        {
         "name": "Metadata",
         "rawType": "object",
         "type": "unknown"
        }
       ],
       "ref": "bbb38b39-6ec3-4d90-a6dd-6a95132f54da",
       "rows": [
        [
         "0",
         "Beyond Flavours",
         "Rusha Chakraborty",
         "The ambience was good, food was quite good . had Saturday lunch , which was cost effective .\nGood place for a sate brunch. One can also chill with friends and or parents.\nWaiter Soumen Das was really courteous and helpful.",
         "5",
         "1 Review , 2 Followers"
        ],
        [
         "1",
         "Beyond Flavours",
         "Anusha Tirumalaneedi",
         "Ambience is too good for a pleasant evening. Service is very prompt. Food is good. Over all a good experience. Soumen Das - kudos to the service",
         "5",
         "3 Reviews , 2 Followers"
        ],
        [
         "2",
         "Beyond Flavours",
         "Ashok Shekhawat",
         "A must try.. great food great ambience. Thnx for the service by Pradeep and Subroto. My personal recommendation is Penne Alfredo Pasta:) ....... Also the music in the background is amazing.",
         "5",
         "2 Reviews , 3 Followers"
        ],
        [
         "3",
         "Beyond Flavours",
         "Swapnil Sarkar",
         "Soumen das and Arun was a great guy. Only because of their behavior and sincerety, And good food off course, I would like to visit this place again.",
         "5",
         "1 Review , 1 Follower"
        ],
        [
         "4",
         "Beyond Flavours",
         "Dileep",
         "Food is good.we ordered Kodi drumsticks and basket mutton biryani. All are good. Thanks to Pradeep. He served well. We enjoyed here. Ambience is also very good.",
         "5",
         "3 Reviews , 2 Followers"
        ],
        [
         "5",
         "Beyond Flavours",
         "Nagabhavani K",
         "Ambiance is good, service is good, food is aPradeecp and subro best service\nFood is good. Papiya good hostess and ur caption very good. This is 4star restaurant.",
         "5",
         "1 Review"
        ],
        [
         "6",
         "Beyond Flavours",
         "Jamuna Bhuwalka",
         "Its a very nice place, ambience is different, all the food we ordered was very tasty, service is also gud, worth visit. Its reasonable as well. Really a must visit place.",
         "5",
         "1 Review"
        ],
        [
         "7",
         "Beyond Flavours",
         "Sandhya S",
         "Well after reading so many reviews finally visited this place...ambience was so good and coming to food crispy corn is nice. Tawa fish was ok... Basket Biryani disappointed us... biryani was ok but not flattering as they claimed.. Staff was polite and prompt especially pradeep and Suman.",
         "4",
         "1 Review"
        ],
        [
         "8",
         "Beyond Flavours",
         "Akash Thorat",
         "Excellent food , specially if you like spicy food . Courteous staff . Shubro and pradeep and papiya gave excellent service to our corporate team dinner . Overall great for team dinners and party",
         "5",
         "1 Review , 1 Follower"
        ],
        [
         "9",
         "Beyond Flavours",
         "Smarak Patnaik",
         "Came for the birthday treat of a close friend. Perfect place for a treat like this. Very hospitable and cooperative staff. Food was delicious, ambience was really good with the music and the lighting. Chili honey lotus stem is a must try here. Special mention to Papiya who took good care of us.",
         "5",
         "1 Review , 1 Follower"
        ],
        [
         "10",
         "Beyond Flavours",
         "Saubhagya Bhuyan",
         "The service was great and the food was awesome. The service staff Manab and Papiya were very courteous and attentive. I would like to come frequently to this place",
         "5",
         "1 Review , 1 Follower"
        ],
        [
         "11",
         "Beyond Flavours",
         "Srivaths07",
         "Very good ambience, amazing food ,good service and friendly staff - Pradeep, Papiya and Shuvro :) will definitely visit again! And loved the design of their menu card.",
         "5",
         "3 Reviews , 1 Follower"
        ],
        [
         "12",
         "Beyond Flavours",
         "Kunj Mishra",
         "Food was very good. Soup was as expected. In starters we ordered honey chilli lotus stem and that is a must try for vegan ppl. Service was great. Frequent visits from Papiya to know our experience and also about the food was really impressive.",
         "5",
         "1 Review , 1 Follower"
        ],
        [
         "13",
         "Beyond Flavours",
         "Pradeep Vetapalem",
         "Food is too good. Telangana kodiak fry is must try.Mutton biriyani is too good.Papiya helped to choose best dishes and attended very well.Must visit.",
         "5",
         "2 Reviews , 25 Followers"
        ],
        [
         "14",
         "Beyond Flavours",
         "Kankaria.ritu",
         "We ordered corn cheese balls, manchow soup and paneer shashlik sizzler. The sizzler was stale. Paneer was smelling and the waiter was so impolite to even accept the mistake. Never going again",
         "1",
         "1 Review"
        ],
        [
         "15",
         "Beyond Flavours",
         "Abhay Sharma",
         "Food and ambience is fantastic.. Waiter Manav Maji was really quick in his service.. Cheese Balls is a must try starter as it was very scrumptious",
         "5",
         "4 Reviews , 7 Followers"
        ],
        [
         "16",
         "Beyond Flavours",
         "Shubham Jaiswal",
         "Came here for lunch and the food was good and tasty. We tried buffet and all the items in veg and non-veg were tasty.\n\nThe ambience and service were also good, and the staff were courteous.\n\nshubhamtraveltales.wordpress.com",
         "4",
         "30 Reviews , 34 Followers"
        ],
        [
         "17",
         "Beyond Flavours",
         "Srijani Mukherjee",
         "The best thing about this place is the food. My favorite go to dish here is definitely Alfredo Pasta although other items are good as well. And the service and behavior of the staff is top-notch. We we're attended by Mr. Soumen Das and he was extremely polite. Will definitely visit soon.",
         "5",
         "6 Reviews , 267 Followers"
        ],
        [
         "18",
         "Beyond Flavours",
         "Hari Jangam",
         "Polite and friendly staff. Nice ambience and good spread of menu. Drinks are awesome. Service is very good by manav... looking forward to seeing it again...",
         "5",
         "1 Review , 1 Follower"
        ],
        [
         "19",
         "Beyond Flavours",
         "Suneet Soni",
         "Food is really good. We had vegetarian items including paneer, mushroom and kofta. Additionally service from Papiya , Shuvro was really good.",
         "5",
         "1 Review , 33 Followers"
        ],
        [
         "20",
         "Beyond Flavours",
         "Little Chef Chika",
         "Beautiful, cozy and classy at the same time, this place is truly recommended for your special days. With 15 percent corporate discounts, you can treat your cotorie well without burning a hole ur pocket. Also, the interior is done so well, you ll love the vibe. On the menu, honey chilli lotus stems, basket biryanis, sizzling brownies were my favourite. Also loved the tomato basil shorba, different from the creamy standards in other restaurants. I'm definitely making more visits to Beyond Flavours. Special mention to Papiya, our hostess for the evening, excellent service :)",
         "5",
         "72 Reviews , 762 Followers"
        ],
        [
         "21",
         "Beyond Flavours",
         "Sneha Munigela",
         "please was good but it was quite expensive and coming to taste we can rate 3 out of 5, we cant click better pictures wen we visit in night🤣🤭best in day time for pics",
         "4",
         "6 Reviews , 1 Follower"
        ],
        [
         "22",
         "Beyond Flavours",
         "Sneha Sarkar",
         "Service was too good and fast. Even these people were so polite and well behaving. Manav and pradeep you were good. Hope everyone behaves the same way",
         "4",
         "2 Reviews , 2 Followers"
        ],
        [
         "23",
         "Beyond Flavours",
         "Tony",
         "We had our farewell feast here recently enjoyed very well very good management so does the boys who gave complimentary food and made us more happy\nFood was perfect desserts, starters was wonderful",
         "5",
         "8 Reviews , 25 Followers"
        ],
        [
         "24",
         "Beyond Flavours",
         "Amritap Datta",
         "Excellent experience, mouthwatering food, good ambience, a must go place in hyderabad. We were served by Shubhro and Papiya. They were awesome in their behaviour. Had an enjoyable evening with friends.",
         "5",
         "1 Review"
        ],
        [
         "25",
         "Beyond Flavours",
         "Imteja7",
         "The place is very good.. 5* to the live music.. She is just superb with beautiful voice.. Food is nice n loved the lightning..😍entrance is also very nice..",
         "5",
         "3 Reviews"
        ],
        [
         "26",
         "Beyond Flavours",
         "Nisha Gahlawat",
         "Sonalin has a great voice.. 😍 must visit the place once.. became fan of her. The food is good.. 5 star from my side. Live music, lightening everything is just awesome 😍",
         "5",
         "2 Reviews , 1 Follower"
        ],
        [
         "27",
         "Beyond Flavours",
         "Dharini Hombal",
         "I heard her voice..she is too beautiful with amazing voice ..just love her voice the way she sings 😍 became fan of Sonalin Priyadarshini. Good place must visit. The food is also nice..",
         "5",
         "1 Review , 26 Followers"
        ],
        [
         "28",
         "Beyond Flavours",
         "Ankita Sinha",
         "Sonalin is a very good singer in the city.. beautiful face with beautiful face must visit this place .. Beautiful live music.. loved it.. 😍 loved the food as well. Very good lightning.",
         "5",
         "9 Reviews , 5 Followers"
        ],
        [
         "29",
         "Beyond Flavours",
         "Ppck2412",
         "Food is descent enough. Desert options were also good\nStarrers were also tasty.\nOne bad experience ee had is waiting time even though we booked table prior time.",
         "4",
         "3 Reviews , 3 Followers"
        ],
        [
         "30",
         "Beyond Flavours",
         "Pragya Sarda",
         "Short review: Decent breads and starters, bad Shaam Savera, a little screwed up daal makhni (but should be a one-off case)\nBetter ambience at night... And importantly good quantity!\nI wanted to give a 2.5 but that's not an option 🙈\nExtensive...\nAmbience: It's better at night. Friends who had been here during the day didn't like it much. So if you prefer ambience, go at night!\nFood! Ordered a Hara Bhara Kebab, Shaam Savera, Daal Makhni, rotis and raita (Yes! I'm a vegetarian 🙈)\nThe good part! Quantity 😍\nI was excited to see Shaam Savera on their menu. But take it from me, you do not want to order it. It is no where close to what it should be. They messed it up real bad, especially the colors.\nThe daal makhni had big chunks of garlic cloves which spoiled it for me. It wasn't creamy too :(\nThe breads and raita were decent!\nThe Hara Bhara Kebabs were decent too, soft! They had an extra outer coating of peanuts. So if you're not a peanut fan on your kebabs, ask them to skip that step 🙈\nConclusion: It looked like they had made food in a hurry.\nWould like to give this place another try hoping that mine was one of the odd cases. If things change, you'll know!",
         "3",
         "9 Reviews , 8 Followers"
        ],
        [
         "31",
         "Beyond Flavours",
         "Anindya",
         "Excellent food and very good service by soumen das..\nAmbience was good too with live music. Food was served timely. Decor of the restaurant was amazing as well.",
         "5",
         "1 Review , 1 Follower"
        ],
        [
         "32",
         "Beyond Flavours",
         "Santhosh Reddyy",
         "My review for this place would be 5star for the ambeince and the service from the staff which lacks in lot's of place even though the food is good in places like these. Special hey to papiya shuvro!",
         "5",
         "3 Reviews , 1 Follower"
        ],
        [
         "33",
         "Beyond Flavours",
         "Piyali Mahapatra",
         "It was a very nice experience. Food was amazing. Friendly staff, with welcoming attitude. Papia was very friendly and accommodating. Good ambiance. I will definitely recommend this place.",
         "5",
         "3 Reviews , 190 Followers"
        ],
        [
         "34",
         "Beyond Flavours",
         "Mehak Malhotra",
         "Had dinner with my friends. Menu is perfect, something for everyone. Service was awesome and Papia was very accommodating. Good ambience with amazing live music. Will be back definitely!",
         "5",
         "6 Reviews , 10 Followers"
        ],
        [
         "35",
         "Beyond Flavours",
         "Pradeep Kumar Gupta",
         "Service experience was very good especially by Papiya. Food served was very good and tasty and they served it very well. I would like to visit Beyond again and will recommend it to friends for its food and its reasonable price.",
         "5",
         "1 Review"
        ],
        [
         "36",
         "Beyond Flavours",
         "Shubham Singh Chauhan",
         "Service , Food and Ambiance was very nice. Staff was very humble while taking order and while serving food. Live music was like cherry on the cake",
         "5",
         "1 Review"
        ],
        [
         "37",
         "Beyond Flavours",
         "Prerna Mund",
         "The food was ❤️.. We ordered banjara tangdi for starter which was the best among all.. Papiya Shuvro was well mannered and her service was best among all.",
         "5",
         "2 Reviews , 8 Followers"
        ],
        [
         "38",
         "Beyond Flavours",
         "Pranith Patro",
         "Staff are just polite and responsive. Food is the best part here. And it is better as ambience also awesome here. I met two persons here named Papiya and Shuvro who are the best at their services. Food items i liked here were Basket biryani and Kodi drum sticks. Finally just loved.",
         "5",
         "2 Reviews , 39 Followers"
        ],
        [
         "39",
         "Beyond Flavours",
         "Sai Raj Kiran",
         "I came here with my parents. We ordered for Thai peneer tikka, kaju pulao and veg biryani. The kaju pulao and veg biryani were really good. This is a decent place to go with family. Shubro and papiya served well.",
         "4",
         "2 Reviews , 1 Follower"
        ],
        [
         "40",
         "Beyond Flavours",
         "Razeen",
         "Well we’re new to Hyderabad . And I can for a fact say that it’s probably the best place I’ve eaten a buffet at in Hyderabad period . Especially id like to thank Shurvo and Papiya for their amazing service . Double metha was just too good . Overall a worthwhile experience",
         "5",
         "5 Reviews"
        ],
        [
         "41",
         "Beyond Flavours",
         "Prasanna",
         "Wonderful place with awesome ambience, best to visit at night to see all the pretty lights and to enjoy some savory foods. Shubro and Papiya were good with service.",
         "5",
         "1 Review"
        ],
        [
         "42",
         "Beyond Flavours",
         "Jeevith Reddy",
         "Good ambience and great service.We've had buffet for 25 people.The waiters were patient and we even got noodles replaced since the one served in the buffet went bad.\nShoutout to Shubro and Pradeep ,took care of our entire Afternoon.",
         "4",
         "4 Reviews , 2 Followers"
        ],
        [
         "43",
         "Beyond Flavours",
         "Sugandha Saxena",
         "My review of the place comes after multiple visits, that have spanned over 4 months. And now I can safely say that it's one of the good places around.\nThey're located near the Biodiversity signal, above Fabindia. There's ample parking for both two and four wheelers. The ambience is a bit dim after dark, and the seating is divided into various options, including a PDR section.\nThe menu design is in the shape of a bottle, and the array spans Continental, Chinese and Indian cuisines. Here's the list of things that I have tried, across all my visits\n\nPanko Crumbed Mozzarella Sticks ❤️ - Cheese sticks that are coated and fried. Pure cheese bliss.\nVeg Lasagna ❤️ - This place has one of the good Lasagne in the town.\nCrispy Chilli Corn Kernels - The usual favourite, this one has a slightly different presentation here.\nMakhmali Paneer Tikka -\nCottage Cheese Shashlik Sizzler\nItalian Nachos - Nachos topped with red sauce and cheese, and baked in the dish.\nCheese and Cheese Pizza ❤️ - Soft base pizza, loaded with cheese, and a few pieces of green olives.\n\nI cannot stress enough on how I have loved all that I tried here. I have also tried out their lunch buffet. The variety may not be as elaborate as other places, but with the food quality and the discount that they offer for bulk bookings, it is at least a one-time try. But what I really adore here is their mocktails. Beyond Delight is an absolute delight! Also a fan of the Guava and Chilli, and Apple and Kiwi Night drinks.\n\nThe staff is ever so courteous. A special mention to Papiya and Shuvro, who were our attendants on the latest visit. The place has Zomato Gold 1+1, which further brings down their reasonable rates. A meal for two would roughly be around 700, that fills not only your tummy, but also you heart!",
         "4",
         "150 Reviews , 2135 Followers"
        ],
        [
         "44",
         "Beyond Flavours",
         "Singh.ibm",
         "Had lunch today at beyond flavors .The food was very Good and delicious and awesome service was provided by Soumen Das & Shuvro. Would highly recommend the restaurant .",
         "5",
         "2 Reviews , 2 Followers"
        ],
        [
         "45",
         "Beyond Flavours",
         "Sind Hu",
         "The reason for giving only a 3 star is because of the longlong time wait for the tables. We went on Friday afternoon. We waited almost more than 30mins to get a table. We lost our patience and left for another restaurant as v didn't get a table even aftr waiting for such a long time.I think restaurant management should take this into consideration and try to decrease the waiting time of customer.",
         "3",
         "61 Reviews , 167 Followers"
        ],
        [
         "46",
         "Beyond Flavours",
         "Sameer Singh",
         "Service is really exceptional. Cheers to Manav, who served us really well. Food was nice too. Loved the ambience too, with nice music playing in the background.",
         "4",
         "1 Review"
        ],
        [
         "47",
         "Beyond Flavours",
         "Jaya Phaneendra",
         "Soumen Das waited our table! Thanks buddy for a great service. Will visit soon!\nSoumen Das waited our table! Thanks buddy for a great service. Will visit soon!Soumen Das waited our table! Thanks buddy for a great service. Will visit soon!\nSoumen Das waited our table! Thanks buddy for a great service. Will visit soon!",
         "5",
         "2 Reviews , 1 Follower"
        ],
        [
         "48",
         "Beyond Flavours",
         "Gokulnath Kunjumon",
         "Papiya Shuvro was great. She helped us get the tables quickly and suggested us the best sizzlers in the menu. Ambience was awesome. She suggested the best table and was very helpful till we were there. Will visit again for the awesome service. You guys should try as well if u plan to take your loved one n give an osm experience then this is the place.",
         "5",
         "1 Review"
        ],
        [
         "49",
         "Beyond Flavours",
         "Raj Verma",
         "Quite good ambience,liked special restro biryani,must try,like the service Papiya and shuvro,they were really good at der service.will like to visit again.Its nice place to visit specially at nyt tym.food was yum.Should try biryani.",
         "5",
         "1 Review , 13 Followers"
        ]
       ],
       "shape": {
        "columns": 5,
        "rows": 10000
       }
      },
      "text/html": [
       "<div>\n",
       "<style scoped>\n",
       "    .dataframe tbody tr th:only-of-type {\n",
       "        vertical-align: middle;\n",
       "    }\n",
       "\n",
       "    .dataframe tbody tr th {\n",
       "        vertical-align: top;\n",
       "    }\n",
       "\n",
       "    .dataframe thead th {\n",
       "        text-align: right;\n",
       "    }\n",
       "</style>\n",
       "<table border=\"1\" class=\"dataframe\">\n",
       "  <thead>\n",
       "    <tr style=\"text-align: right;\">\n",
       "      <th></th>\n",
       "      <th>Restaurant</th>\n",
       "      <th>Reviewer</th>\n",
       "      <th>Review</th>\n",
       "      <th>Rating</th>\n",
       "      <th>Metadata</th>\n",
       "    </tr>\n",
       "  </thead>\n",
       "  <tbody>\n",
       "    <tr>\n",
       "      <th>0</th>\n",
       "      <td>Beyond Flavours</td>\n",
       "      <td>Rusha Chakraborty</td>\n",
       "      <td>The ambience was good, food was quite good . h...</td>\n",
       "      <td>5</td>\n",
       "      <td>1 Review , 2 Followers</td>\n",
       "    </tr>\n",
       "    <tr>\n",
       "      <th>1</th>\n",
       "      <td>Beyond Flavours</td>\n",
       "      <td>Anusha Tirumalaneedi</td>\n",
       "      <td>Ambience is too good for a pleasant evening. S...</td>\n",
       "      <td>5</td>\n",
       "      <td>3 Reviews , 2 Followers</td>\n",
       "    </tr>\n",
       "    <tr>\n",
       "      <th>2</th>\n",
       "      <td>Beyond Flavours</td>\n",
       "      <td>Ashok Shekhawat</td>\n",
       "      <td>A must try.. great food great ambience. Thnx f...</td>\n",
       "      <td>5</td>\n",
       "      <td>2 Reviews , 3 Followers</td>\n",
       "    </tr>\n",
       "    <tr>\n",
       "      <th>3</th>\n",
       "      <td>Beyond Flavours</td>\n",
       "      <td>Swapnil Sarkar</td>\n",
       "      <td>Soumen das and Arun was a great guy. Only beca...</td>\n",
       "      <td>5</td>\n",
       "      <td>1 Review , 1 Follower</td>\n",
       "    </tr>\n",
       "    <tr>\n",
       "      <th>4</th>\n",
       "      <td>Beyond Flavours</td>\n",
       "      <td>Dileep</td>\n",
       "      <td>Food is good.we ordered Kodi drumsticks and ba...</td>\n",
       "      <td>5</td>\n",
       "      <td>3 Reviews , 2 Followers</td>\n",
       "    </tr>\n",
       "    <tr>\n",
       "      <th>...</th>\n",
       "      <td>...</td>\n",
       "      <td>...</td>\n",
       "      <td>...</td>\n",
       "      <td>...</td>\n",
       "      <td>...</td>\n",
       "    </tr>\n",
       "    <tr>\n",
       "      <th>9995</th>\n",
       "      <td>Chinese Pavilion</td>\n",
       "      <td>Abhishek Mahajan</td>\n",
       "      <td>Madhumathi Mahajan Well to start with nice cou...</td>\n",
       "      <td>3</td>\n",
       "      <td>53 Reviews , 54 Followers</td>\n",
       "    </tr>\n",
       "    <tr>\n",
       "      <th>9996</th>\n",
       "      <td>Chinese Pavilion</td>\n",
       "      <td>Sharad Agrawal</td>\n",
       "      <td>This place has never disappointed us.. The foo...</td>\n",
       "      <td>4.5</td>\n",
       "      <td>2 Reviews , 53 Followers</td>\n",
       "    </tr>\n",
       "    <tr>\n",
       "      <th>9997</th>\n",
       "      <td>Chinese Pavilion</td>\n",
       "      <td>Ramandeep</td>\n",
       "      <td>Bad rating is mainly because of \"Chicken Bone ...</td>\n",
       "      <td>1.5</td>\n",
       "      <td>65 Reviews , 423 Followers</td>\n",
       "    </tr>\n",
       "    <tr>\n",
       "      <th>9998</th>\n",
       "      <td>Chinese Pavilion</td>\n",
       "      <td>Nayana Shanbhag</td>\n",
       "      <td>I personally love and prefer Chinese Food. Had...</td>\n",
       "      <td>4</td>\n",
       "      <td>13 Reviews , 144 Followers</td>\n",
       "    </tr>\n",
       "    <tr>\n",
       "      <th>9999</th>\n",
       "      <td>Chinese Pavilion</td>\n",
       "      <td>Bhargava Krishna</td>\n",
       "      <td>Checked in here to try some delicious chinese ...</td>\n",
       "      <td>3.5</td>\n",
       "      <td>472 Reviews , 1302 Followers</td>\n",
       "    </tr>\n",
       "  </tbody>\n",
       "</table>\n",
       "<p>10000 rows × 5 columns</p>\n",
       "</div>"
      ],
      "text/plain": [
       "            Restaurant              Reviewer  \\\n",
       "0      Beyond Flavours     Rusha Chakraborty   \n",
       "1      Beyond Flavours  Anusha Tirumalaneedi   \n",
       "2      Beyond Flavours       Ashok Shekhawat   \n",
       "3      Beyond Flavours        Swapnil Sarkar   \n",
       "4      Beyond Flavours                Dileep   \n",
       "...                ...                   ...   \n",
       "9995  Chinese Pavilion      Abhishek Mahajan   \n",
       "9996  Chinese Pavilion        Sharad Agrawal   \n",
       "9997  Chinese Pavilion             Ramandeep   \n",
       "9998  Chinese Pavilion       Nayana Shanbhag   \n",
       "9999  Chinese Pavilion      Bhargava Krishna   \n",
       "\n",
       "                                                 Review Rating  \\\n",
       "0     The ambience was good, food was quite good . h...      5   \n",
       "1     Ambience is too good for a pleasant evening. S...      5   \n",
       "2     A must try.. great food great ambience. Thnx f...      5   \n",
       "3     Soumen das and Arun was a great guy. Only beca...      5   \n",
       "4     Food is good.we ordered Kodi drumsticks and ba...      5   \n",
       "...                                                 ...    ...   \n",
       "9995  Madhumathi Mahajan Well to start with nice cou...      3   \n",
       "9996  This place has never disappointed us.. The foo...    4.5   \n",
       "9997  Bad rating is mainly because of \"Chicken Bone ...    1.5   \n",
       "9998  I personally love and prefer Chinese Food. Had...      4   \n",
       "9999  Checked in here to try some delicious chinese ...    3.5   \n",
       "\n",
       "                          Metadata  \n",
       "0           1 Review , 2 Followers  \n",
       "1          3 Reviews , 2 Followers  \n",
       "2          2 Reviews , 3 Followers  \n",
       "3            1 Review , 1 Follower  \n",
       "4          3 Reviews , 2 Followers  \n",
       "...                            ...  \n",
       "9995     53 Reviews , 54 Followers  \n",
       "9996      2 Reviews , 53 Followers  \n",
       "9997    65 Reviews , 423 Followers  \n",
       "9998    13 Reviews , 144 Followers  \n",
       "9999  472 Reviews , 1302 Followers  \n",
       "\n",
       "[10000 rows x 5 columns]"
      ]
     },
     "execution_count": 3,
     "metadata": {},
     "output_type": "execute_result"
    }
   ],
   "source": [
    "dataset = pd.read_csv(r\"Restaurant_reviews.csv\")\n",
    "dataset"
   ]
  },
  {
   "cell_type": "code",
   "execution_count": 7,
   "id": "04a05d19",
   "metadata": {},
   "outputs": [
    {
     "name": "stderr",
     "output_type": "stream",
     "text": [
      "[nltk_data] Downloading package stopwords to\n",
      "[nltk_data]     C:\\Users\\DELL\\AppData\\Roaming\\nltk_data...\n",
      "[nltk_data]   Unzipping corpora\\stopwords.zip.\n"
     ]
    },
    {
     "data": {
      "text/plain": [
       "True"
      ]
     },
     "execution_count": 7,
     "metadata": {},
     "output_type": "execute_result"
    }
   ],
   "source": [
    "nltk.download('stopwords')\n"
   ]
  },
  {
   "cell_type": "code",
   "execution_count": 9,
   "id": "2a054f21",
   "metadata": {},
   "outputs": [],
   "source": [
    "corpus = []\n",
    "ps = PorterStemmer()\n",
    "\n",
    "for review in dataset['Review']:\n",
    "    if isinstance(review, str):\n",
    "        review = re.sub('[^a-zA-Z]', ' ', review)\n",
    "        review = review.lower()\n",
    "        review = review.split()\n",
    "        review = [ps.stem(word) for word in review if word not in stopwords.words('english')]\n",
    "        review = ' '.join(review)\n",
    "        corpus.append(review)\n",
    "    else:\n",
    "        corpus.append('')  # or skip, or use a placeholder\n"
   ]
  },
  {
   "cell_type": "code",
   "execution_count": 11,
   "id": "9c9aeeb2",
   "metadata": {},
   "outputs": [],
   "source": [
    "cv = CountVectorizer(max_features=1500)\n",
    "X = cv.fit_transform(corpus).toarray()\n",
    "y = dataset['Rating'].values  # Make sure this is the correct label column name\n"
   ]
  },
  {
   "cell_type": "code",
   "execution_count": 12,
   "id": "faf66636",
   "metadata": {},
   "outputs": [],
   "source": [
    "X_train, X_test, y_train, y_test = train_test_split(X, y, test_size=0.20, random_state=0)\n"
   ]
  },
  {
   "cell_type": "code",
   "execution_count": 13,
   "id": "4f6d979f",
   "metadata": {},
   "outputs": [
    {
     "ename": "ValueError",
     "evalue": "Input contains NaN",
     "output_type": "error",
     "traceback": [
      "\u001b[31m---------------------------------------------------------------------------\u001b[39m",
      "\u001b[31mValueError\u001b[39m                                Traceback (most recent call last)",
      "\u001b[36mCell\u001b[39m\u001b[36m \u001b[39m\u001b[32mIn[13]\u001b[39m\u001b[32m, line 2\u001b[39m\n\u001b[32m      1\u001b[39m model = MultinomialNB()\n\u001b[32m----> \u001b[39m\u001b[32m2\u001b[39m \u001b[43mmodel\u001b[49m\u001b[43m.\u001b[49m\u001b[43mfit\u001b[49m\u001b[43m(\u001b[49m\u001b[43mX_train\u001b[49m\u001b[43m,\u001b[49m\u001b[43m \u001b[49m\u001b[43my_train\u001b[49m\u001b[43m)\u001b[49m\n",
      "\u001b[36mFile \u001b[39m\u001b[32mc:\\Users\\DELL\\Restaurant-Review-Analysis\\venv\\Lib\\site-packages\\sklearn\\base.py:1389\u001b[39m, in \u001b[36m_fit_context.<locals>.decorator.<locals>.wrapper\u001b[39m\u001b[34m(estimator, *args, **kwargs)\u001b[39m\n\u001b[32m   1382\u001b[39m     estimator._validate_params()\n\u001b[32m   1384\u001b[39m \u001b[38;5;28;01mwith\u001b[39;00m config_context(\n\u001b[32m   1385\u001b[39m     skip_parameter_validation=(\n\u001b[32m   1386\u001b[39m         prefer_skip_nested_validation \u001b[38;5;129;01mor\u001b[39;00m global_skip_validation\n\u001b[32m   1387\u001b[39m     )\n\u001b[32m   1388\u001b[39m ):\n\u001b[32m-> \u001b[39m\u001b[32m1389\u001b[39m     \u001b[38;5;28;01mreturn\u001b[39;00m \u001b[43mfit_method\u001b[49m\u001b[43m(\u001b[49m\u001b[43mestimator\u001b[49m\u001b[43m,\u001b[49m\u001b[43m \u001b[49m\u001b[43m*\u001b[49m\u001b[43margs\u001b[49m\u001b[43m,\u001b[49m\u001b[43m \u001b[49m\u001b[43m*\u001b[49m\u001b[43m*\u001b[49m\u001b[43mkwargs\u001b[49m\u001b[43m)\u001b[49m\n",
      "\u001b[36mFile \u001b[39m\u001b[32mc:\\Users\\DELL\\Restaurant-Review-Analysis\\venv\\Lib\\site-packages\\sklearn\\naive_bayes.py:735\u001b[39m, in \u001b[36m_BaseDiscreteNB.fit\u001b[39m\u001b[34m(self, X, y, sample_weight)\u001b[39m\n\u001b[32m    714\u001b[39m \u001b[38;5;129m@_fit_context\u001b[39m(prefer_skip_nested_validation=\u001b[38;5;28;01mTrue\u001b[39;00m)\n\u001b[32m    715\u001b[39m \u001b[38;5;28;01mdef\u001b[39;00m\u001b[38;5;250m \u001b[39m\u001b[34mfit\u001b[39m(\u001b[38;5;28mself\u001b[39m, X, y, sample_weight=\u001b[38;5;28;01mNone\u001b[39;00m):\n\u001b[32m    716\u001b[39m \u001b[38;5;250m    \u001b[39m\u001b[33;03m\"\"\"Fit Naive Bayes classifier according to X, y.\u001b[39;00m\n\u001b[32m    717\u001b[39m \n\u001b[32m    718\u001b[39m \u001b[33;03m    Parameters\u001b[39;00m\n\u001b[32m   (...)\u001b[39m\u001b[32m    733\u001b[39m \u001b[33;03m        Returns the instance itself.\u001b[39;00m\n\u001b[32m    734\u001b[39m \u001b[33;03m    \"\"\"\u001b[39;00m\n\u001b[32m--> \u001b[39m\u001b[32m735\u001b[39m     X, y = \u001b[38;5;28;43mself\u001b[39;49m\u001b[43m.\u001b[49m\u001b[43m_check_X_y\u001b[49m\u001b[43m(\u001b[49m\u001b[43mX\u001b[49m\u001b[43m,\u001b[49m\u001b[43m \u001b[49m\u001b[43my\u001b[49m\u001b[43m)\u001b[49m\n\u001b[32m    736\u001b[39m     _, n_features = X.shape\n\u001b[32m    738\u001b[39m     labelbin = LabelBinarizer()\n",
      "\u001b[36mFile \u001b[39m\u001b[32mc:\\Users\\DELL\\Restaurant-Review-Analysis\\venv\\Lib\\site-packages\\sklearn\\naive_bayes.py:581\u001b[39m, in \u001b[36m_BaseDiscreteNB._check_X_y\u001b[39m\u001b[34m(self, X, y, reset)\u001b[39m\n\u001b[32m    579\u001b[39m \u001b[38;5;28;01mdef\u001b[39;00m\u001b[38;5;250m \u001b[39m\u001b[34m_check_X_y\u001b[39m(\u001b[38;5;28mself\u001b[39m, X, y, reset=\u001b[38;5;28;01mTrue\u001b[39;00m):\n\u001b[32m    580\u001b[39m \u001b[38;5;250m    \u001b[39m\u001b[33;03m\"\"\"Validate X and y in fit methods.\"\"\"\u001b[39;00m\n\u001b[32m--> \u001b[39m\u001b[32m581\u001b[39m     \u001b[38;5;28;01mreturn\u001b[39;00m \u001b[43mvalidate_data\u001b[49m\u001b[43m(\u001b[49m\u001b[38;5;28;43mself\u001b[39;49m\u001b[43m,\u001b[49m\u001b[43m \u001b[49m\u001b[43mX\u001b[49m\u001b[43m,\u001b[49m\u001b[43m \u001b[49m\u001b[43my\u001b[49m\u001b[43m,\u001b[49m\u001b[43m \u001b[49m\u001b[43maccept_sparse\u001b[49m\u001b[43m=\u001b[49m\u001b[33;43m\"\u001b[39;49m\u001b[33;43mcsr\u001b[39;49m\u001b[33;43m\"\u001b[39;49m\u001b[43m,\u001b[49m\u001b[43m \u001b[49m\u001b[43mreset\u001b[49m\u001b[43m=\u001b[49m\u001b[43mreset\u001b[49m\u001b[43m)\u001b[49m\n",
      "\u001b[36mFile \u001b[39m\u001b[32mc:\\Users\\DELL\\Restaurant-Review-Analysis\\venv\\Lib\\site-packages\\sklearn\\utils\\validation.py:2961\u001b[39m, in \u001b[36mvalidate_data\u001b[39m\u001b[34m(_estimator, X, y, reset, validate_separately, skip_check_array, **check_params)\u001b[39m\n\u001b[32m   2959\u001b[39m         y = check_array(y, input_name=\u001b[33m\"\u001b[39m\u001b[33my\u001b[39m\u001b[33m\"\u001b[39m, **check_y_params)\n\u001b[32m   2960\u001b[39m     \u001b[38;5;28;01melse\u001b[39;00m:\n\u001b[32m-> \u001b[39m\u001b[32m2961\u001b[39m         X, y = \u001b[43mcheck_X_y\u001b[49m\u001b[43m(\u001b[49m\u001b[43mX\u001b[49m\u001b[43m,\u001b[49m\u001b[43m \u001b[49m\u001b[43my\u001b[49m\u001b[43m,\u001b[49m\u001b[43m \u001b[49m\u001b[43m*\u001b[49m\u001b[43m*\u001b[49m\u001b[43mcheck_params\u001b[49m\u001b[43m)\u001b[49m\n\u001b[32m   2962\u001b[39m     out = X, y\n\u001b[32m   2964\u001b[39m \u001b[38;5;28;01mif\u001b[39;00m \u001b[38;5;129;01mnot\u001b[39;00m no_val_X \u001b[38;5;129;01mand\u001b[39;00m check_params.get(\u001b[33m\"\u001b[39m\u001b[33mensure_2d\u001b[39m\u001b[33m\"\u001b[39m, \u001b[38;5;28;01mTrue\u001b[39;00m):\n",
      "\u001b[36mFile \u001b[39m\u001b[32mc:\\Users\\DELL\\Restaurant-Review-Analysis\\venv\\Lib\\site-packages\\sklearn\\utils\\validation.py:1387\u001b[39m, in \u001b[36mcheck_X_y\u001b[39m\u001b[34m(X, y, accept_sparse, accept_large_sparse, dtype, order, copy, force_writeable, force_all_finite, ensure_all_finite, ensure_2d, allow_nd, multi_output, ensure_min_samples, ensure_min_features, y_numeric, estimator)\u001b[39m\n\u001b[32m   1368\u001b[39m ensure_all_finite = _deprecate_force_all_finite(force_all_finite, ensure_all_finite)\n\u001b[32m   1370\u001b[39m X = check_array(\n\u001b[32m   1371\u001b[39m     X,\n\u001b[32m   1372\u001b[39m     accept_sparse=accept_sparse,\n\u001b[32m   (...)\u001b[39m\u001b[32m   1384\u001b[39m     input_name=\u001b[33m\"\u001b[39m\u001b[33mX\u001b[39m\u001b[33m\"\u001b[39m,\n\u001b[32m   1385\u001b[39m )\n\u001b[32m-> \u001b[39m\u001b[32m1387\u001b[39m y = \u001b[43m_check_y\u001b[49m\u001b[43m(\u001b[49m\u001b[43my\u001b[49m\u001b[43m,\u001b[49m\u001b[43m \u001b[49m\u001b[43mmulti_output\u001b[49m\u001b[43m=\u001b[49m\u001b[43mmulti_output\u001b[49m\u001b[43m,\u001b[49m\u001b[43m \u001b[49m\u001b[43my_numeric\u001b[49m\u001b[43m=\u001b[49m\u001b[43my_numeric\u001b[49m\u001b[43m,\u001b[49m\u001b[43m \u001b[49m\u001b[43mestimator\u001b[49m\u001b[43m=\u001b[49m\u001b[43mestimator\u001b[49m\u001b[43m)\u001b[49m\n\u001b[32m   1389\u001b[39m check_consistent_length(X, y)\n\u001b[32m   1391\u001b[39m \u001b[38;5;28;01mreturn\u001b[39;00m X, y\n",
      "\u001b[36mFile \u001b[39m\u001b[32mc:\\Users\\DELL\\Restaurant-Review-Analysis\\venv\\Lib\\site-packages\\sklearn\\utils\\validation.py:1409\u001b[39m, in \u001b[36m_check_y\u001b[39m\u001b[34m(y, multi_output, y_numeric, estimator)\u001b[39m\n\u001b[32m   1407\u001b[39m     estimator_name = _check_estimator_name(estimator)\n\u001b[32m   1408\u001b[39m     y = column_or_1d(y, warn=\u001b[38;5;28;01mTrue\u001b[39;00m)\n\u001b[32m-> \u001b[39m\u001b[32m1409\u001b[39m     \u001b[43m_assert_all_finite\u001b[49m\u001b[43m(\u001b[49m\u001b[43my\u001b[49m\u001b[43m,\u001b[49m\u001b[43m \u001b[49m\u001b[43minput_name\u001b[49m\u001b[43m=\u001b[49m\u001b[33;43m\"\u001b[39;49m\u001b[33;43my\u001b[39;49m\u001b[33;43m\"\u001b[39;49m\u001b[43m,\u001b[49m\u001b[43m \u001b[49m\u001b[43mestimator_name\u001b[49m\u001b[43m=\u001b[49m\u001b[43mestimator_name\u001b[49m\u001b[43m)\u001b[49m\n\u001b[32m   1410\u001b[39m     _ensure_no_complex_data(y)\n\u001b[32m   1411\u001b[39m \u001b[38;5;28;01mif\u001b[39;00m y_numeric \u001b[38;5;129;01mand\u001b[39;00m \u001b[38;5;28mhasattr\u001b[39m(y.dtype, \u001b[33m\"\u001b[39m\u001b[33mkind\u001b[39m\u001b[33m\"\u001b[39m) \u001b[38;5;129;01mand\u001b[39;00m y.dtype.kind == \u001b[33m\"\u001b[39m\u001b[33mO\u001b[39m\u001b[33m\"\u001b[39m:\n",
      "\u001b[36mFile \u001b[39m\u001b[32mc:\\Users\\DELL\\Restaurant-Review-Analysis\\venv\\Lib\\site-packages\\sklearn\\utils\\validation.py:105\u001b[39m, in \u001b[36m_assert_all_finite\u001b[39m\u001b[34m(X, allow_nan, msg_dtype, estimator_name, input_name)\u001b[39m\n\u001b[32m    103\u001b[39m \u001b[38;5;28;01mif\u001b[39;00m \u001b[38;5;129;01mnot\u001b[39;00m is_array_api \u001b[38;5;129;01mand\u001b[39;00m X.dtype == np.dtype(\u001b[33m\"\u001b[39m\u001b[33mobject\u001b[39m\u001b[33m\"\u001b[39m) \u001b[38;5;129;01mand\u001b[39;00m \u001b[38;5;129;01mnot\u001b[39;00m allow_nan:\n\u001b[32m    104\u001b[39m     \u001b[38;5;28;01mif\u001b[39;00m _object_dtype_isnan(X).any():\n\u001b[32m--> \u001b[39m\u001b[32m105\u001b[39m         \u001b[38;5;28;01mraise\u001b[39;00m \u001b[38;5;167;01mValueError\u001b[39;00m(\u001b[33m\"\u001b[39m\u001b[33mInput contains NaN\u001b[39m\u001b[33m\"\u001b[39m)\n\u001b[32m    107\u001b[39m \u001b[38;5;66;03m# We need only consider float arrays, hence can early return for all else.\u001b[39;00m\n\u001b[32m    108\u001b[39m \u001b[38;5;28;01mif\u001b[39;00m \u001b[38;5;129;01mnot\u001b[39;00m xp.isdtype(X.dtype, (\u001b[33m\"\u001b[39m\u001b[33mreal floating\u001b[39m\u001b[33m\"\u001b[39m, \u001b[33m\"\u001b[39m\u001b[33mcomplex floating\u001b[39m\u001b[33m\"\u001b[39m)):\n",
      "\u001b[31mValueError\u001b[39m: Input contains NaN"
     ]
    }
   ],
   "source": [
    "model = MultinomialNB()\n",
    "model.fit(X_train, y_train)"
   ]
  },
  {
   "cell_type": "code",
   "execution_count": null,
   "id": "09133fb1",
   "metadata": {},
   "outputs": [],
   "source": []
  }
 ],
 "metadata": {
  "kernelspec": {
   "display_name": "venv",
   "language": "python",
   "name": "python3"
  },
  "language_info": {
   "codemirror_mode": {
    "name": "ipython",
    "version": 3
   },
   "file_extension": ".py",
   "mimetype": "text/x-python",
   "name": "python",
   "nbconvert_exporter": "python",
   "pygments_lexer": "ipython3",
   "version": "3.12.4"
  }
 },
 "nbformat": 4,
 "nbformat_minor": 5
}
