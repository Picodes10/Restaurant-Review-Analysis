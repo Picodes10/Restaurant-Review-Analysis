{
 "cells": [
  {
   "cell_type": "code",
   "execution_count": 1,
   "id": "c190eb37",
   "metadata": {},
   "outputs": [],
   "source": [
    "import numpy as np\n",
    "import matplotlib.pyplot as plt\n",
    "import pandas as pd"
   ]
  },
  {
   "cell_type": "code",
   "execution_count": 2,
   "metadata": {},
   "outputs": [
    {
     "data": {
      "application/vnd.microsoft.datawrangler.viewer.v0+json": {
       "columns": [
        {
         "name": "index",
         "rawType": "int64",
         "type": "integer"
        },
        {
         "name": "Review",
         "rawType": "object",
         "type": "string"
        },
        {
         "name": "Liked",
         "rawType": "int64",
         "type": "integer"
        }
       ],
       "ref": "0081b6bf-9d25-4dd0-a8d9-9866a4d61c23",
       "rows": [
        [
         "0",
         "Wow... Loved this place.",
         "1"
        ],
        [
         "1",
         "Crust is not good.",
         "0"
        ],
        [
         "2",
         "Not tasty and the texture was just nasty.",
         "0"
        ],
        [
         "3",
         "Stopped by during the late May bank holiday off Rick Steve recommendation and loved it.",
         "1"
        ],
        [
         "4",
         "The selection on the menu was great and so were the prices.",
         "1"
        ],
        [
         "5",
         "Now I am getting angry and I want my damn pho.",
         "0"
        ],
        [
         "6",
         "Honeslty it didn't taste THAT fresh.)",
         "0"
        ],
        [
         "7",
         "The potatoes were like rubber and you could tell they had been made up ahead of time being kept under a warmer.",
         "0"
        ],
        [
         "8",
         "The fries were great too.",
         "1"
        ],
        [
         "9",
         "A great touch.",
         "1"
        ],
        [
         "10",
         "Service was very prompt.",
         "1"
        ],
        [
         "11",
         "Would not go back.",
         "0"
        ],
        [
         "12",
         "The cashier had no care what so ever on what I had to say it still ended up being wayyy overpriced.",
         "0"
        ],
        [
         "13",
         "I tried the Cape Cod ravoli, chicken, with cranberry...mmmm!",
         "1"
        ],
        [
         "14",
         "I was disgusted because I was pretty sure that was human hair.",
         "0"
        ],
        [
         "15",
         "I was shocked because no signs indicate cash only.",
         "0"
        ],
        [
         "16",
         "Highly recommended.",
         "1"
        ],
        [
         "17",
         "Waitress was a little slow in service.",
         "0"
        ],
        [
         "18",
         "This place is not worth your time, let alone Vegas.",
         "0"
        ],
        [
         "19",
         "did not like at all.",
         "0"
        ],
        [
         "20",
         "The Burrittos Blah!",
         "0"
        ],
        [
         "21",
         "The food, amazing.",
         "1"
        ],
        [
         "22",
         "Service is also cute.",
         "1"
        ],
        [
         "23",
         "I could care less... The interior is just beautiful.",
         "1"
        ],
        [
         "24",
         "So they performed.",
         "1"
        ],
        [
         "25",
         "That's right....the red velvet cake.....ohhh this stuff is so good.",
         "1"
        ],
        [
         "26",
         "- They never brought a salad we asked for.",
         "0"
        ],
        [
         "27",
         "This hole in the wall has great Mexican street tacos, and friendly staff.",
         "1"
        ],
        [
         "28",
         "Took an hour to get our food only 4 tables in restaurant my food was Luke warm, Our sever was running around like he was totally overwhelmed.",
         "0"
        ],
        [
         "29",
         "The worst was the salmon sashimi.",
         "0"
        ],
        [
         "30",
         "Also there are combos like a burger, fries, and beer for 23 which is a decent deal.",
         "1"
        ],
        [
         "31",
         "This was like the final blow!",
         "0"
        ],
        [
         "32",
         "I found this place by accident and I could not be happier.",
         "1"
        ],
        [
         "33",
         "seems like a good quick place to grab a bite of some familiar pub food, but do yourself a favor and look elsewhere.",
         "0"
        ],
        [
         "34",
         "Overall, I like this place a lot.",
         "1"
        ],
        [
         "35",
         "The only redeeming quality of the restaurant was that it was very inexpensive.",
         "1"
        ],
        [
         "36",
         "Ample portions and good prices.",
         "1"
        ],
        [
         "37",
         "Poor service, the waiter made me feel like I was stupid every time he came to the table.",
         "0"
        ],
        [
         "38",
         "My first visit to Hiro was a delight!",
         "1"
        ],
        [
         "39",
         "Service sucks.",
         "0"
        ],
        [
         "40",
         "The shrimp tender and moist.",
         "1"
        ],
        [
         "41",
         "There is not a deal good enough that would drag me into that establishment again.",
         "0"
        ],
        [
         "42",
         "Hard to judge whether these sides were good because we were grossed out by the melted styrofoam and didn't want to eat it for fear of getting sick.",
         "0"
        ],
        [
         "43",
         "On a positive note, our server was very attentive and provided great service.",
         "1"
        ],
        [
         "44",
         "Frozen pucks of disgust, with some of the worst people behind the register.",
         "0"
        ],
        [
         "45",
         "The only thing I did like was the prime rib and dessert section.",
         "1"
        ],
        [
         "46",
         "It's too bad the food is so damn generic.",
         "0"
        ],
        [
         "47",
         "The burger is good beef, cooked just right.",
         "1"
        ],
        [
         "48",
         "If you want a sandwich just go to any Firehouse!!!!!",
         "1"
        ],
        [
         "49",
         "My side Greek salad with the Greek dressing was so tasty, and the pita and hummus was very refreshing.",
         "1"
        ]
       ],
       "shape": {
        "columns": 2,
        "rows": 1000
       }
      },
      "text/html": [
       "<div>\n",
       "<style scoped>\n",
       "    .dataframe tbody tr th:only-of-type {\n",
       "        vertical-align: middle;\n",
       "    }\n",
       "\n",
       "    .dataframe tbody tr th {\n",
       "        vertical-align: top;\n",
       "    }\n",
       "\n",
       "    .dataframe thead th {\n",
       "        text-align: right;\n",
       "    }\n",
       "</style>\n",
       "<table border=\"1\" class=\"dataframe\">\n",
       "  <thead>\n",
       "    <tr style=\"text-align: right;\">\n",
       "      <th></th>\n",
       "      <th>Review</th>\n",
       "      <th>Liked</th>\n",
       "    </tr>\n",
       "  </thead>\n",
       "  <tbody>\n",
       "    <tr>\n",
       "      <th>0</th>\n",
       "      <td>Wow... Loved this place.</td>\n",
       "      <td>1</td>\n",
       "    </tr>\n",
       "    <tr>\n",
       "      <th>1</th>\n",
       "      <td>Crust is not good.</td>\n",
       "      <td>0</td>\n",
       "    </tr>\n",
       "    <tr>\n",
       "      <th>2</th>\n",
       "      <td>Not tasty and the texture was just nasty.</td>\n",
       "      <td>0</td>\n",
       "    </tr>\n",
       "    <tr>\n",
       "      <th>3</th>\n",
       "      <td>Stopped by during the late May bank holiday of...</td>\n",
       "      <td>1</td>\n",
       "    </tr>\n",
       "    <tr>\n",
       "      <th>4</th>\n",
       "      <td>The selection on the menu was great and so wer...</td>\n",
       "      <td>1</td>\n",
       "    </tr>\n",
       "    <tr>\n",
       "      <th>...</th>\n",
       "      <td>...</td>\n",
       "      <td>...</td>\n",
       "    </tr>\n",
       "    <tr>\n",
       "      <th>995</th>\n",
       "      <td>I think food should have flavor and texture an...</td>\n",
       "      <td>0</td>\n",
       "    </tr>\n",
       "    <tr>\n",
       "      <th>996</th>\n",
       "      <td>Appetite instantly gone.</td>\n",
       "      <td>0</td>\n",
       "    </tr>\n",
       "    <tr>\n",
       "      <th>997</th>\n",
       "      <td>Overall I was not impressed and would not go b...</td>\n",
       "      <td>0</td>\n",
       "    </tr>\n",
       "    <tr>\n",
       "      <th>998</th>\n",
       "      <td>The whole experience was underwhelming, and I ...</td>\n",
       "      <td>0</td>\n",
       "    </tr>\n",
       "    <tr>\n",
       "      <th>999</th>\n",
       "      <td>Then, as if I hadn't wasted enough of my life ...</td>\n",
       "      <td>0</td>\n",
       "    </tr>\n",
       "  </tbody>\n",
       "</table>\n",
       "<p>1000 rows × 2 columns</p>\n",
       "</div>"
      ],
      "text/plain": [
       "                                                Review  Liked\n",
       "0                             Wow... Loved this place.      1\n",
       "1                                   Crust is not good.      0\n",
       "2            Not tasty and the texture was just nasty.      0\n",
       "3    Stopped by during the late May bank holiday of...      1\n",
       "4    The selection on the menu was great and so wer...      1\n",
       "..                                                 ...    ...\n",
       "995  I think food should have flavor and texture an...      0\n",
       "996                           Appetite instantly gone.      0\n",
       "997  Overall I was not impressed and would not go b...      0\n",
       "998  The whole experience was underwhelming, and I ...      0\n",
       "999  Then, as if I hadn't wasted enough of my life ...      0\n",
       "\n",
       "[1000 rows x 2 columns]"
      ]
     },
     "execution_count": 2,
     "metadata": {},
     "output_type": "execute_result"
    }
   ],
   "source": [
    "data = pd.read_csv('Restaurant_Reviews.tsv', delimiter = '\\t', quoting = 3)\n",
    "data"
   ]
  },
  {
   "cell_type": "markdown",
   "id": "4bd407ed",
   "metadata": {},
   "source": [
    "Removing the Stopwords, numeric and speacial charecters.\n",
    "Normalizing each review using the approach of stemming."
   ]
  },
  {
   "cell_type": "code",
   "execution_count": 3,
   "metadata": {},
   "outputs": [],
   "source": [
    "import re\n",
    "import nltk\n",
    "from nltk.corpus import stopwords\n",
    "from nltk.stem.porter import PorterStemmer\n",
    "corpus = []\n",
    "for i in range(0, 1000):\n",
    "    review = re.sub('[^a-zA-Z]', ' ', data['Review'][i])\n",
    "    review = review.lower()\n",
    "    review = review.split()\n",
    "    ps = PorterStemmer()\n",
    "    review = [ps.stem(word) for word in review if not word in set(stopwords.words('english'))]\n",
    "    review = ' '.join(review)\n",
    "    corpus.append(review)"
   ]
  },
  {
   "cell_type": "markdown",
   "id": "cb1f8eca",
   "metadata": {},
   "source": [
    "From the cleaned dataset, potential features are extracted and are converted to numerical format. The vectorization techniques are used to convert textual data to numerical format. Using vectorization, a matrix is created where each column represents a feature and each row represents an individual review."
   ]
  },
  {
   "cell_type": "code",
   "execution_count": 4,
   "metadata": {},
   "outputs": [],
   "source": [
    "# Creating the Bag of Words model using CountVectorizer\n",
    "\n",
    "from sklearn.feature_extraction.text import CountVectorizer\n",
    "cv = CountVectorizer(max_features = 1500)\n",
    "X = cv.fit_transform(corpus).toarray()\n",
    "y = data.iloc[:, 1].values"
   ]
  },
  {
   "cell_type": "markdown",
   "id": "18065c91",
   "metadata": {},
   "source": [
    "Further the data is splitted into training and testing set using Cross Validation technique. This data is used as input to classification algorithm.\n",
    "\n",
    "Classification Algorithms:\n",
    "\n",
    "Algorithms like Decision tree, Support Vector Machine, Logistic Regression, Naive Bayes were implemented and on comparing the evaluation metrics two of the algorithms gave better predictions than others.\n",
    "\n",
    "Multinomial Naive Bayes\n",
    "Bernoulli Naive Bayes\n",
    "Logistic Regression"
   ]
  },
  {
   "cell_type": "code",
   "execution_count": 5,
   "id": "183b59c3",
   "metadata": {},
   "outputs": [],
   "source": [
    "# Splitting the dataset into the Training set and Test set\n",
    "from sklearn.model_selection import train_test_split\n",
    "X_train, X_test, y_train, y_test = train_test_split(X, y, test_size = 0.3, random_state = 42)"
   ]
  },
  {
   "cell_type": "markdown",
   "id": "5af2a7db",
   "metadata": {},
   "source": [
    "Multinomial NB"
   ]
  },
  {
   "cell_type": "code",
   "execution_count": 6,
   "id": "bbc5b530",
   "metadata": {},
   "outputs": [
    {
     "name": "stdout",
     "output_type": "stream",
     "text": [
      "Confusion Matrix:\n",
      " [[119  33]\n",
      " [ 34 114]]\n",
      "\n",
      "\n",
      "Accuracy is  77.67 %\n",
      "Precision is  0.78\n",
      "Recall is  0.77\n"
     ]
    }
   ],
   "source": [
    "# Multinomial NB\n",
    "\n",
    "# Fitting Naive Bayes to the Training set\n",
    "from sklearn.naive_bayes import MultinomialNB\n",
    "classifier = MultinomialNB(alpha=0.1)\n",
    "classifier.fit(X_train, y_train)\n",
    "\n",
    "# Predicting the Test set results\n",
    "y_pred = classifier.predict(X_test)\n",
    "\n",
    "# Making the Confusion Matrix\n",
    "from sklearn.metrics import confusion_matrix\n",
    "cm = confusion_matrix(y_test, y_pred)\n",
    "print (\"Confusion Matrix:\\n\",cm)\n",
    "\n",
    "# Accuracy, Precision and Recall\n",
    "from sklearn.metrics import accuracy_score\n",
    "from sklearn.metrics import precision_score\n",
    "from sklearn.metrics import recall_score\n",
    "score1 = accuracy_score(y_test,y_pred)\n",
    "score2 = precision_score(y_test,y_pred)\n",
    "score3= recall_score(y_test,y_pred)\n",
    "print(\"\\n\")\n",
    "print(\"Accuracy is \",round(score1*100,2),\"%\")\n",
    "print(\"Precision is \",round(score2,2))\n",
    "print(\"Recall is \",round(score3,2))"
   ]
  },
  {
   "cell_type": "markdown",
   "id": "3330ff8a",
   "metadata": {},
   "source": [
    "Bernoulli NB"
   ]
  },
  {
   "cell_type": "code",
   "execution_count": 7,
   "id": "d94f7708",
   "metadata": {},
   "outputs": [
    {
     "name": "stdout",
     "output_type": "stream",
     "text": [
      "Confusion Matrix:\n",
      " [[115  37]\n",
      " [ 32 116]]\n",
      "\n",
      "\n",
      "Accuracy is  77.0 %\n",
      "Precision is  0.76\n",
      "Recall is  0.78\n"
     ]
    }
   ],
   "source": [
    "# Fitting Naive Bayes to the Training set\n",
    "from sklearn.naive_bayes import BernoulliNB\n",
    "classifier = BernoulliNB(alpha=0.8)\n",
    "classifier.fit(X_train, y_train)\n",
    "\n",
    "# Predicting the Test set results\n",
    "y_pred = classifier.predict(X_test)\n",
    "\n",
    "# Making the Confusion Matrix\n",
    "from sklearn.metrics import confusion_matrix\n",
    "cm = confusion_matrix(y_test, y_pred)\n",
    "print (\"Confusion Matrix:\\n\",cm)\n",
    "\n",
    "# Accuracy, Precision and Recall\n",
    "from sklearn.metrics import accuracy_score\n",
    "from sklearn.metrics import precision_score\n",
    "from sklearn.metrics import recall_score\n",
    "score1 = accuracy_score(y_test,y_pred)\n",
    "score2 = precision_score(y_test,y_pred)\n",
    "score3= recall_score(y_test,y_pred)\n",
    "print(\"\\n\")\n",
    "print(\"Accuracy is \",round(score1*100,2),\"%\")\n",
    "print(\"Precision is \",round(score2,2))\n",
    "print(\"Recall is \",round(score3,2))"
   ]
  },
  {
   "cell_type": "markdown",
   "id": "1de0c73d",
   "metadata": {},
   "source": [
    "Logistic Regression"
   ]
  },
  {
   "cell_type": "code",
   "execution_count": 8,
   "id": "a811d828",
   "metadata": {},
   "outputs": [
    {
     "name": "stdout",
     "output_type": "stream",
     "text": [
      "Confusion Matrix:\n",
      " [[125  27]\n",
      " [ 43 105]]\n",
      "\n",
      "\n",
      "Accuracy is  76.67 %\n",
      "Precision is  0.8\n",
      "Recall is  0.71\n"
     ]
    }
   ],
   "source": [
    "# Fitting Logistic Regression to the Training set\n",
    "from sklearn import linear_model\n",
    "classifier = linear_model.LogisticRegression(C=1.5)\n",
    "classifier.fit(X_train, y_train)\n",
    "\n",
    "# Predicting the Test set results\n",
    "y_pred = classifier.predict(X_test)\n",
    "\n",
    "# Making the Confusion Matrix\n",
    "from sklearn.metrics import confusion_matrix\n",
    "cm = confusion_matrix(y_test, y_pred)\n",
    "print (\"Confusion Matrix:\\n\",cm)\n",
    "\n",
    "# Accuracy, Precision and Recall\n",
    "from sklearn.metrics import accuracy_score\n",
    "from sklearn.metrics import precision_score\n",
    "from sklearn.metrics import recall_score\n",
    "score1 = accuracy_score(y_test,y_pred)\n",
    "score2 = precision_score(y_test,y_pred)\n",
    "score3= recall_score(y_test,y_pred)\n",
    "print(\"\\n\")\n",
    "print(\"Accuracy is \",round(score1*100,2),\"%\")\n",
    "print(\"Precision is \",round(score2,2))\n",
    "print(\"Recall is \",round(score3,2))"
   ]
  },
  {
   "cell_type": "markdown",
   "id": "e37614b1",
   "metadata": {},
   "source": [
    "Evaluation metrics used here are accuracy, precision and recall.\n",
    "\n",
    "Using Multinomial Naive Bayes,\n",
    "\n",
    "Accuracy of prediction is 77.67%.\n",
    "Precision of prediction is 0.78.\n",
    "Recall of prediction is 0.77.\n",
    "Using Bernoulli Naive Bayes,\n",
    "\n",
    "Accuracy of prediction is 77.0%.\n",
    "Precision of prediction is 0.76.\n",
    "Recall of prediction is 0.78.\n",
    "Using Logistic Regression,\n",
    "\n",
    "Accuracy of prediction is 76.67%.\n",
    "Precision of prediction is 0.8.\n",
    "Recall of prediction is 0.71."
   ]
  },
  {
   "cell_type": "code",
   "execution_count": null,
   "id": "a6194e0b",
   "metadata": {},
   "outputs": [],
   "source": []
  }
 ],
 "metadata": {
  "kernelspec": {
   "display_name": "venv",
   "language": "python",
   "name": "python3"
  },
  "language_info": {
   "codemirror_mode": {
    "name": "ipython",
    "version": 3
   },
   "file_extension": ".py",
   "mimetype": "text/x-python",
   "name": "python",
   "nbconvert_exporter": "python",
   "pygments_lexer": "ipython3",
   "version": "3.12.4"
  }
 },
 "nbformat": 4,
 "nbformat_minor": 5
}
